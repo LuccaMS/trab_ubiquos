{
 "cells": [
  {
   "cell_type": "code",
   "execution_count": 1,
   "metadata": {},
   "outputs": [],
   "source": [
    "import asyncio\n",
    "import nest_asyncio\n",
    "import websockets\n",
    "nest_asyncio.apply()\n",
    "\n",
    "async def handle_data(websocket, path):\n",
    "    async for message in websocket:\n",
    "        # Print the received message\n",
    "        print(\"Received message:\", message)\n",
    "\n",
    "#192.168.3.3\n",
    "# para testes locais pegar o IPV4\n",
    "start_server = websockets.serve(handle_data, \"192.168.3.3\", 999)\n",
    "\n",
    "\n",
    "# This ensures the server keeps running until it's explicitly stopped\n",
    "asyncio.get_event_loop().run_until_complete(start_server)\n",
    "asyncio.get_event_loop().run_forever()\n"
   ]
  }
 ],
 "metadata": {
  "kernelspec": {
   "display_name": "Python 3",
   "language": "python",
   "name": "python3"
  },
  "language_info": {
   "codemirror_mode": {
    "name": "ipython",
    "version": 3
   },
   "file_extension": ".py",
   "mimetype": "text/x-python",
   "name": "python",
   "nbconvert_exporter": "python",
   "pygments_lexer": "ipython3",
   "version": "3.9.0"
  }
 },
 "nbformat": 4,
 "nbformat_minor": 2
}
