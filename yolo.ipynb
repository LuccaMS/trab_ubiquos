{
 "cells": [
  {
   "cell_type": "code",
   "execution_count": null,
   "metadata": {},
   "outputs": [],
   "source": [
    "import cv2\n",
    "import numpy as np\n",
    "import os"
   ]
  },
  {
   "cell_type": "code",
   "execution_count": null,
   "metadata": {},
   "outputs": [],
   "source": [
    "imgs = []"
   ]
  },
  {
   "cell_type": "code",
   "execution_count": null,
   "metadata": {},
   "outputs": [],
   "source": [
    "filenames = sorted(os.listdir('imgs_test'), key=lambda x: int(x.split('.')[0]))"
   ]
  },
  {
   "cell_type": "code",
   "execution_count": null,
   "metadata": {},
   "outputs": [],
   "source": [
    "# Load each image, convert it to a byte array, and append to the list\n",
    "for filename in filenames:\n",
    "    with open(f'imgs_test/{filename}', 'rb') as f:\n",
    "        imgs.append(f.read())"
   ]
  },
  {
   "cell_type": "code",
   "execution_count": null,
   "metadata": {},
   "outputs": [],
   "source": [
    "# Function to convert byte data to an image\n",
    "def bytes_to_image(byte_data):\n",
    "    np_arr = np.frombuffer(byte_data, np.uint8)\n",
    "    image = cv2.imdecode(np_arr, cv2.IMREAD_COLOR)\n",
    "    return image\n"
   ]
  },
  {
   "cell_type": "code",
   "execution_count": 55,
   "metadata": {},
   "outputs": [],
   "source": [
    "from ultralytics import YOLO"
   ]
  },
  {
   "cell_type": "code",
   "execution_count": 56,
   "metadata": {},
   "outputs": [],
   "source": [
    "model = YOLO('../best.pt')"
   ]
  },
  {
   "cell_type": "code",
   "execution_count": null,
   "metadata": {},
   "outputs": [],
   "source": [
    "def process_and_track(frames):\n",
    "    for byte_data in frames:\n",
    "        # Convert byte data to image\n",
    "        print(\"vai se fuder\")\n",
    "        frame = bytes_to_image(byte_data)\n",
    "\n",
    "\n",
    "        \n",
    "        # Ensure the frame was converted successfully\n",
    "        if frame is None:\n",
    "            print('Failed to convert byte data to image')\n",
    "            continue\n",
    "        \n",
    "        # Track objects in the frame\n",
    "        results = model.track(source=frame)\n",
    "        \n",
    "        # Process the tracking results (e.g., draw bounding boxes)\n",
    "        for result in results:\n",
    "            for box in result.boxes:\n",
    "                x1, y1, x2, y2 = map(int, box.xyxy.tolist()[0])\n",
    "                label = result.names[int(box.cls[0])]\n",
    "                confidence = box.conf[0].item()\n",
    "                object_id = int(box.id[0])  # Assuming 'id' contains the unique ID\n",
    "                \n",
    "                # Draw the bounding box on the frame\n",
    "                cv2.rectangle(frame, (x1, y1), (x2, y2), (255, 0, 0), 2)\n",
    "                #cv2.putText(frame, f'{label} {confidence:.2f}', (x1, y1 - 10), cv2.FONT_HERSHEY_SIMPLEX, 0.5, (255, 0, 0), 2)\n",
    "                cv2.putText(frame, f'ID: {object_id}', (x1, y1 - 10), cv2.FONT_HERSHEY_SIMPLEX, 0.5, (255, 0, 0), 2)\n",
    "\n",
    "        \n",
    "        resized_frame = cv2.resize(frame, (500, 500))\n",
    "\n",
    "        # Display the frame (optional, for visualization purposes)\n",
    "        cv2.imshow('Tracked Frame', resized_frame)\n",
    "        if cv2.waitKey(1) & 0xFF == ord('q'):\n",
    "            break\n"
   ]
  },
  {
   "cell_type": "code",
   "execution_count": null,
   "metadata": {},
   "outputs": [],
   "source": [
    "process_and_track(imgs)\n",
    "cv2.destroyAllWindows()"
   ]
  }
 ],
 "metadata": {
  "kernelspec": {
   "display_name": "Python 3",
   "language": "python",
   "name": "python3"
  },
  "language_info": {
   "codemirror_mode": {
    "name": "ipython",
    "version": 3
   },
   "file_extension": ".py",
   "mimetype": "text/x-python",
   "name": "python",
   "nbconvert_exporter": "python",
   "pygments_lexer": "ipython3",
   "version": "3.9.0"
  }
 },
 "nbformat": 4,
 "nbformat_minor": 2
}
